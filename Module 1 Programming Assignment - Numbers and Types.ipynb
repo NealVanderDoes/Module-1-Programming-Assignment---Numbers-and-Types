{
 "cells": [
  {
   "cell_type": "code",
   "execution_count": 12,
   "id": "2b9ec1c3-d1e5-48f4-9e4a-afed786d042a",
   "metadata": {},
   "outputs": [
    {
     "name": "stdout",
     "output_type": "stream",
     "text": [
      "3600\n",
      "86400\n",
      "24.0\n",
      "24\n"
     ]
    }
   ],
   "source": [
    "print(60 * 60) # Step 3.1 \n",
    "seconds_per_hour = 3600 # Step 3.2\n",
    "print(seconds_per_hour * 24) # Step 3.3\n",
    "seconds_per_day = seconds_per_hour * 24 # Step 3.4\n",
    "print(seconds_per_day / seconds_per_hour) # Step 3.5\n",
    "print(seconds_per_day // seconds_per_hour) # Step 3.6\n",
    "# Yes the results from 3.5 and 3.6 are the same aside from the final .0"
   ]
  }
 ],
 "metadata": {
  "kernelspec": {
   "display_name": "Python 3 (ipykernel)",
   "language": "python",
   "name": "python3"
  },
  "language_info": {
   "codemirror_mode": {
    "name": "ipython",
    "version": 3
   },
   "file_extension": ".py",
   "mimetype": "text/x-python",
   "name": "python",
   "nbconvert_exporter": "python",
   "pygments_lexer": "ipython3",
   "version": "3.12.4"
  }
 },
 "nbformat": 4,
 "nbformat_minor": 5
}
